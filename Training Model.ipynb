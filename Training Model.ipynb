{
 "cells": [
  {
   "cell_type": "markdown",
   "metadata": {},
   "source": [
    "# Entrenamiento estocástico y por bloques"
   ]
  },
  {
   "cell_type": "code",
   "execution_count": 5,
   "metadata": {},
   "outputs": [],
   "source": [
    "import numpy as np\n",
    "import matplotlib.pyplot as plt\n",
    "import tensorflow as tf\n",
    "import np\n",
    "session = tf.compat.v1.Session()\n",
    "tf.compat.v1.disable_eager_execution()"
   ]
  },
  {
   "cell_type": "code",
   "execution_count": 6,
   "metadata": {},
   "outputs": [],
   "source": [
    "batch_size = 25"
   ]
  },
  {
   "cell_type": "code",
   "execution_count": 7,
   "metadata": {},
   "outputs": [],
   "source": [
    "x_vals = np.random.normal(1.0, 0.1, 200)\n",
    "y_vals = np.repeat(10.0, 200)"
   ]
  },
  {
   "cell_type": "code",
   "execution_count": 11,
   "metadata": {},
   "outputs": [],
   "source": [
    "x_data = tf.compat.v1.placeholder(shape=[None, 1], dtype = tf.float32)\n",
    "y_target = tf.compat.v1.placeholder(shape=[None, 1], dtype=tf.float32)\n",
    "A = tf.Variable(tf.compat.v1.random_normal(shape=[1,1]))"
   ]
  },
  {
   "cell_type": "code",
   "execution_count": 12,
   "metadata": {},
   "outputs": [],
   "source": [
    "my_prediction = tf.matmul(x_data, A)"
   ]
  },
  {
   "cell_type": "code",
   "execution_count": 13,
   "metadata": {},
   "outputs": [],
   "source": [
    "loss = tf.reduce_mean(tf.square(my_prediction-y_target))"
   ]
  },
  {
   "cell_type": "code",
   "execution_count": 15,
   "metadata": {},
   "outputs": [],
   "source": [
    "my_optimizer = tf.compat.v1.train.GradientDescentOptimizer(learning_rate=0.025)\n",
    "train_step = my_optimizer.minimize(loss)"
   ]
  },
  {
   "cell_type": "code",
   "execution_count": 17,
   "metadata": {},
   "outputs": [],
   "source": [
    "init = tf.compat.v1.global_variables_initializer()"
   ]
  },
  {
   "cell_type": "code",
   "execution_count": 18,
   "metadata": {},
   "outputs": [],
   "source": [
    "session.run(init)"
   ]
  },
  {
   "cell_type": "code",
   "execution_count": 19,
   "metadata": {},
   "outputs": [
    {
     "name": "stdout",
     "output_type": "stream",
     "text": [
      "Paso #5 A=[[2.7273147]]\n",
      "Loss: 52.52061\n",
      "Paso #10 A=[[4.365241]]\n",
      "Loss: 32.332787\n",
      "Paso #15 A=[[5.6295586]]\n",
      "Loss: 20.267315\n",
      "Paso #20 A=[[6.6026573]]\n",
      "Loss: 12.304277\n",
      "Paso #25 A=[[7.360753]]\n",
      "Loss: 8.600286\n",
      "Paso #30 A=[[7.9386325]]\n",
      "Loss: 4.404024\n",
      "Paso #35 A=[[8.384324]]\n",
      "Loss: 3.591583\n",
      "Paso #40 A=[[8.722699]]\n",
      "Loss: 1.8414543\n",
      "Paso #45 A=[[8.969088]]\n",
      "Loss: 1.9478726\n",
      "Paso #50 A=[[9.197517]]\n",
      "Loss: 1.2250584\n",
      "Paso #55 A=[[9.32996]]\n",
      "Loss: 1.2940809\n",
      "Paso #60 A=[[9.48216]]\n",
      "Loss: 0.7905303\n",
      "Paso #65 A=[[9.562136]]\n",
      "Loss: 0.35212955\n",
      "Paso #70 A=[[9.66244]]\n",
      "Loss: 0.57670754\n",
      "Paso #75 A=[[9.693889]]\n",
      "Loss: 1.0169611\n",
      "Paso #80 A=[[9.756004]]\n",
      "Loss: 0.7734878\n",
      "Paso #85 A=[[9.782992]]\n",
      "Loss: 1.1435679\n",
      "Paso #90 A=[[9.777326]]\n",
      "Loss: 0.7449287\n",
      "Paso #95 A=[[9.814391]]\n",
      "Loss: 1.2432256\n",
      "Paso #100 A=[[9.852632]]\n",
      "Loss: 0.7349309\n",
      "Paso #105 A=[[9.846424]]\n",
      "Loss: 0.6323051\n",
      "Paso #110 A=[[9.850613]]\n",
      "Loss: 0.76695323\n",
      "Paso #115 A=[[9.834481]]\n",
      "Loss: 1.0589397\n",
      "Paso #120 A=[[9.865497]]\n",
      "Loss: 1.1335557\n",
      "Paso #125 A=[[9.870833]]\n",
      "Loss: 1.4415793\n",
      "Paso #130 A=[[9.881379]]\n",
      "Loss: 0.91908723\n",
      "Paso #135 A=[[9.894247]]\n",
      "Loss: 0.9920202\n",
      "Paso #140 A=[[9.907361]]\n",
      "Loss: 1.2897468\n",
      "Paso #145 A=[[9.944241]]\n",
      "Loss: 1.1408234\n",
      "Paso #150 A=[[9.95815]]\n",
      "Loss: 1.508598\n",
      "Paso #155 A=[[9.953014]]\n",
      "Loss: 1.2551712\n",
      "Paso #160 A=[[9.948815]]\n",
      "Loss: 0.50447756\n",
      "Paso #165 A=[[9.917478]]\n",
      "Loss: 0.60713935\n",
      "Paso #170 A=[[9.918997]]\n",
      "Loss: 1.3681072\n",
      "Paso #175 A=[[9.914427]]\n",
      "Loss: 0.7034506\n",
      "Paso #180 A=[[9.9033375]]\n",
      "Loss: 0.9453041\n",
      "Paso #185 A=[[9.842185]]\n",
      "Loss: 0.79907113\n",
      "Paso #190 A=[[9.864552]]\n",
      "Loss: 1.176584\n",
      "Paso #195 A=[[9.858005]]\n",
      "Loss: 1.1159703\n",
      "Paso #200 A=[[9.857529]]\n",
      "Loss: 1.5333831\n"
     ]
    }
   ],
   "source": [
    "loss_batch = []\n",
    "for i in range(200):\n",
    "    rand_index = np.random.choice(200, size = batch_size)\n",
    "    rand_x = np.transpose([x_vals[rand_index]])\n",
    "    rand_y = np.transpose([y_vals[rand_index]])\n",
    "    session.run(train_step, feed_dict={x_data:rand_x, y_target:rand_y})\n",
    "    if (i+1)%5 == 0:\n",
    "        print(\"Paso #\"+str(i+1)+' A='+str(session.run(A)))\n",
    "        temp_loss = session.run(loss, feed_dict={x_data:rand_x, y_target:rand_y})\n",
    "        print(\"Loss: \"+str(temp_loss))\n",
    "        loss_batch.append(temp_loss)"
   ]
  },
  {
   "cell_type": "code",
   "execution_count": 20,
   "metadata": {},
   "outputs": [
    {
     "name": "stdout",
     "output_type": "stream",
     "text": [
      "Paso #5 A=[[9.785801]]\n",
      "Loss: 0.016258331\n",
      "Paso #10 A=[[9.853006]]\n",
      "Loss: 0.14240587\n",
      "Paso #15 A=[[9.750226]]\n",
      "Loss: 0.20141381\n",
      "Paso #20 A=[[9.715738]]\n",
      "Loss: 0.17476086\n",
      "Paso #25 A=[[9.7816725]]\n",
      "Loss: 0.11552748\n",
      "Paso #30 A=[[9.875046]]\n",
      "Loss: 0.31025875\n",
      "Paso #35 A=[[9.696681]]\n",
      "Loss: 0.048148256\n",
      "Paso #40 A=[[9.522204]]\n",
      "Loss: 0.5619608\n",
      "Paso #45 A=[[9.625457]]\n",
      "Loss: 3.361442\n",
      "Paso #50 A=[[9.607005]]\n",
      "Loss: 4.8211074\n",
      "Paso #55 A=[[9.540237]]\n",
      "Loss: 5.2362885\n",
      "Paso #60 A=[[9.490262]]\n",
      "Loss: 0.1439793\n",
      "Paso #65 A=[[9.579234]]\n",
      "Loss: 0.07051612\n",
      "Paso #70 A=[[9.741894]]\n",
      "Loss: 0.647057\n",
      "Paso #75 A=[[9.844458]]\n",
      "Loss: 0.6271051\n",
      "Paso #80 A=[[9.862595]]\n",
      "Loss: 0.2765035\n",
      "Paso #85 A=[[9.805009]]\n",
      "Loss: 0.5237162\n",
      "Paso #90 A=[[9.953919]]\n",
      "Loss: 0.36847723\n",
      "Paso #95 A=[[9.999593]]\n",
      "Loss: 0.012368696\n",
      "Paso #100 A=[[9.819903]]\n",
      "Loss: 0.85972697\n",
      "Paso #105 A=[[9.839274]]\n",
      "Loss: 0.97485906\n",
      "Paso #110 A=[[9.807096]]\n",
      "Loss: 1.8971872\n",
      "Paso #115 A=[[9.78495]]\n",
      "Loss: 0.03954764\n",
      "Paso #120 A=[[9.616352]]\n",
      "Loss: 0.60243654\n",
      "Paso #125 A=[[9.713033]]\n",
      "Loss: 2.5327334\n",
      "Paso #130 A=[[9.742208]]\n",
      "Loss: 2.8127897\n",
      "Paso #135 A=[[9.649404]]\n",
      "Loss: 0.6613035\n",
      "Paso #140 A=[[9.5947275]]\n",
      "Loss: 0.07620918\n",
      "Paso #145 A=[[9.768078]]\n",
      "Loss: 0.21188527\n",
      "Paso #150 A=[[9.727295]]\n",
      "Loss: 2.7731745\n",
      "Paso #155 A=[[9.822937]]\n",
      "Loss: 0.25130346\n",
      "Paso #160 A=[[9.987974]]\n",
      "Loss: 6.997521\n",
      "Paso #165 A=[[9.979163]]\n",
      "Loss: 3.5583618\n",
      "Paso #170 A=[[9.962632]]\n",
      "Loss: 0.0730641\n",
      "Paso #175 A=[[9.978878]]\n",
      "Loss: 0.027843727\n",
      "Paso #180 A=[[10.060966]]\n",
      "Loss: 2.5444791\n",
      "Paso #185 A=[[9.8904705]]\n",
      "Loss: 0.0049876645\n",
      "Paso #190 A=[[9.905195]]\n",
      "Loss: 0.07579063\n",
      "Paso #195 A=[[9.892743]]\n",
      "Loss: 2.5813193\n",
      "Paso #200 A=[[9.866045]]\n",
      "Loss: 0.50726575\n"
     ]
    }
   ],
   "source": [
    "loss_stochastic = []\n",
    "for i in range(200):\n",
    "    rand_index = np.random.choice(200, size=1)\n",
    "    rand_x = [x_vals[rand_index]]\n",
    "    rand_y = [y_vals[rand_index]]\n",
    "    session.run(train_step, feed_dict={x_data:rand_x, y_target:rand_y})\n",
    "    if (i+1)%5 == 0:\n",
    "        print(\"Paso #\"+str(i+1)+' A='+str(session.run(A)))\n",
    "        temp_loss = session.run(loss, feed_dict={x_data:rand_x, y_target:rand_y})\n",
    "        print(\"Loss: \"+str(temp_loss))\n",
    "        loss_stochastic.append(temp_loss)"
   ]
  },
  {
   "cell_type": "code",
   "execution_count": 21,
   "metadata": {},
   "outputs": [
    {
     "data": {
      "image/png": "[encoded data removed]",
      "text/plain": [
       "<Figure size 432x288 with 1 Axes>"
      ]
     },
     "metadata": {
      "needs_background": "light"
     },
     "output_type": "display_data"
    }
   ],
   "source": [
    "plt.plot(range(0,200,5), loss_stochastic, 'b-', label = \"Entrenamiento estocástico\")\n",
    "plt.plot(range(0,200,5), loss_batch, 'r--', label = \"Entrenamiento por bloques de tamaño 25\")\n",
    "plt.legend(loc=\"upper right\", prop={'size':10})\n",
    "plt.show()"
   ]
  },
  {
   "cell_type": "code",
   "execution_count": null,
   "metadata": {},
   "outputs": [],
   "source": []
  }
 ],
 "metadata": {
  "kernelspec": {
   "display_name": "Python 3",
   "language": "python",
   "name": "python3"
  },
  "language_info": {
   "codemirror_mode": {
    "name": "ipython",
    "version": 3
   },
   "file_extension": ".py",
   "mimetype": "text/x-python",
   "name": "python",
   "nbconvert_exporter": "python",
   "pygments_lexer": "ipython3",
   "version": "3.7.6"
  }
 },
 "nbformat": 4,
 "nbformat_minor": 2
}
